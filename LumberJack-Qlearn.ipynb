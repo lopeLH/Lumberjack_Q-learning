{
 "cells": [
  {
   "cell_type": "code",
   "execution_count": 3,
   "metadata": {
    "collapsed": true
   },
   "outputs": [],
   "source": [
    "import pyautogui\n",
    "import time"
   ]
  },
  {
   "cell_type": "code",
   "execution_count": 88,
   "metadata": {
    "collapsed": false
   },
   "outputs": [],
   "source": [
    "import numpy as np\n",
    "import matplotlib.pyplot as plt\n",
    "\n",
    "def takeScreen():\n",
    "    im1 = pyautogui.screenshot(region=(200,260,260,100))\n",
    "    mat = np.array(im1.getdata()).reshape(100, 260, 3)\n",
    "    mat =  mat[:,:,2]\n",
    "    return mat\n",
    "    #plt.imshow(mat, cmap=\"gray\")\n",
    "    #plt.show()\n",
    "\n",
    "def getState(sc, lastAct):\n",
    "    return (sc[20,50], sc[20,225], lastAct)\n",
    "\n",
    "def getReward():\n",
    "    im1 = pyautogui.screenshot(region=(240,360,200,100))\n",
    "    mat = np.array(im1.getdata()).reshape(100, 200, 3)\n",
    "    mat =  mat[:,:,0]\n",
    "    \n",
    "    if(mat[70,157] < 100 or mat[70,41] < 100):\n",
    "        return -1\n",
    "    else:\n",
    "        return 1"
   ]
  },
  {
   "cell_type": "code",
   "execution_count": 89,
   "metadata": {
    "collapsed": false
   },
   "outputs": [],
   "source": [
    "import win32api,win32con\n",
    "\n",
    "def leftClick():\n",
    "    win32api.mouse_event(win32con.MOUSEEVENTF_LEFTDOWN,0,0)\n",
    "    time.sleep(.01)\n",
    "    win32api.mouse_event(win32con.MOUSEEVENTF_LEFTUP,0,0)\n",
    "    \n",
    "def mousePos(cord):\n",
    "    win32api.SetCursorPos((cord[0], cord[1]))"
   ]
  },
  {
   "cell_type": "code",
   "execution_count": 90,
   "metadata": {
    "collapsed": false
   },
   "outputs": [],
   "source": [
    "def dangerLeft(mat):\n",
    "    if mat[20,50] < 230:\n",
    "        return True\n",
    "    else:\n",
    "        return False\n",
    "\n",
    "def dangerRight(mat):\n",
    "    if mat[20,225] < 230:\n",
    "        return True\n",
    "    else:\n",
    "        return False\n",
    "    \n",
    "def cutLeft():\n",
    "    mousePos([250,600])\n",
    "    leftClick()\n",
    "    \n",
    "def cutRight():\n",
    "    mousePos([420,600])\n",
    "    leftClick()"
   ]
  },
  {
   "cell_type": "code",
   "execution_count": 121,
   "metadata": {
    "collapsed": true
   },
   "outputs": [],
   "source": []
  },
  {
   "cell_type": "code",
   "execution_count": 133,
   "metadata": {
    "collapsed": false
   },
   "outputs": [],
   "source": [
    "q = QLearn([0,1], epsilon=0.2)"
   ]
  },
  {
   "cell_type": "code",
   "execution_count": 134,
   "metadata": {
    "collapsed": false
   },
   "outputs": [
    {
     "name": "stdout",
     "output_type": "stream",
     "text": [
      "lastState: (255, 127, 1) lastAction: 1 newState: (255, 255, 1)\n",
      "lastState: (127, 255, 1) lastAction: 0 newState: (255, 255, 0)\n",
      "lastState: (255, 255, 0) lastAction: 1 newState: (255, 255, 1)\n",
      "lastState: (255, 127, 0) lastAction: 1 newState: (255, 255, 1)\n",
      "lastState: (127, 255, 0) lastAction: 0 newState: (255, 255, 0)\n",
      "lastState: (255, 255, 1) lastAction: 0 newState: (255, 255, 0)\n",
      "lastState: (127, 255, 1) lastAction: 0 newState: (255, 255, 0)\n",
      "lastState: (255, 255, 0) lastAction: 1 newState: (255, 255, 1)\n",
      "lastState: (255, 255, 1) lastAction: 1 newState: (255, 127, 1)\n",
      "lastState: (255, 255, 1) lastAction: 0 newState: (255, 255, 0)\n",
      "lastState: (255, 255, 0) lastAction: 0 newState: (255, 255, 0)\n",
      "lastState: (255, 127, 1) lastAction: 0 newState: (255, 127, 0)\n",
      "lastState: (255, 127, 1) lastAction: 0 newState: (255, 255, 0)\n",
      "lastState: (255, 240, 1) lastAction: 0 newState: (255, 255, 0)\n"
     ]
    },
    {
     "ename": "IOError",
     "evalue": "screen grab failed",
     "output_type": "error",
     "traceback": [
      "\u001b[1;31m---------------------------------------------------------------------------\u001b[0m",
      "\u001b[1;31mIOError\u001b[0m                                   Traceback (most recent call last)",
      "\u001b[1;32m<ipython-input-134-b52cd6231737>\u001b[0m in \u001b[0;36m<module>\u001b[1;34m()\u001b[0m\n\u001b[0;32m     10\u001b[0m \u001b[1;32mwhile\u001b[0m\u001b[1;33m(\u001b[0m\u001b[0mTrue\u001b[0m\u001b[1;33m)\u001b[0m\u001b[1;33m:\u001b[0m\u001b[1;33m\u001b[0m\u001b[0m\n\u001b[0;32m     11\u001b[0m \u001b[1;33m\u001b[0m\u001b[0m\n\u001b[1;32m---> 12\u001b[1;33m     \u001b[0msc\u001b[0m \u001b[1;33m=\u001b[0m \u001b[0mtakeScreen\u001b[0m\u001b[1;33m(\u001b[0m\u001b[1;33m)\u001b[0m\u001b[1;33m\u001b[0m\u001b[0m\n\u001b[0m\u001b[0;32m     13\u001b[0m     \u001b[0mrew\u001b[0m \u001b[1;33m=\u001b[0m \u001b[0mgetReward\u001b[0m\u001b[1;33m(\u001b[0m\u001b[1;33m)\u001b[0m\u001b[1;33m\u001b[0m\u001b[0m\n\u001b[0;32m     14\u001b[0m     \u001b[0mstate\u001b[0m \u001b[1;33m=\u001b[0m \u001b[0mgetState\u001b[0m\u001b[1;33m(\u001b[0m\u001b[0msc\u001b[0m\u001b[1;33m,\u001b[0m \u001b[0mlastAct\u001b[0m\u001b[1;33m)\u001b[0m\u001b[1;33m\u001b[0m\u001b[0m\n",
      "\u001b[1;32m<ipython-input-88-3b5811d68726>\u001b[0m in \u001b[0;36mtakeScreen\u001b[1;34m()\u001b[0m\n\u001b[0;32m      3\u001b[0m \u001b[1;33m\u001b[0m\u001b[0m\n\u001b[0;32m      4\u001b[0m \u001b[1;32mdef\u001b[0m \u001b[0mtakeScreen\u001b[0m\u001b[1;33m(\u001b[0m\u001b[1;33m)\u001b[0m\u001b[1;33m:\u001b[0m\u001b[1;33m\u001b[0m\u001b[0m\n\u001b[1;32m----> 5\u001b[1;33m     \u001b[0mim1\u001b[0m \u001b[1;33m=\u001b[0m \u001b[0mpyautogui\u001b[0m\u001b[1;33m.\u001b[0m\u001b[0mscreenshot\u001b[0m\u001b[1;33m(\u001b[0m\u001b[0mregion\u001b[0m\u001b[1;33m=\u001b[0m\u001b[1;33m(\u001b[0m\u001b[1;36m200\u001b[0m\u001b[1;33m,\u001b[0m\u001b[1;36m260\u001b[0m\u001b[1;33m,\u001b[0m\u001b[1;36m260\u001b[0m\u001b[1;33m,\u001b[0m\u001b[1;36m100\u001b[0m\u001b[1;33m)\u001b[0m\u001b[1;33m)\u001b[0m\u001b[1;33m\u001b[0m\u001b[0m\n\u001b[0m\u001b[0;32m      6\u001b[0m     \u001b[0mmat\u001b[0m \u001b[1;33m=\u001b[0m \u001b[0mnp\u001b[0m\u001b[1;33m.\u001b[0m\u001b[0marray\u001b[0m\u001b[1;33m(\u001b[0m\u001b[0mim1\u001b[0m\u001b[1;33m.\u001b[0m\u001b[0mgetdata\u001b[0m\u001b[1;33m(\u001b[0m\u001b[1;33m)\u001b[0m\u001b[1;33m)\u001b[0m\u001b[1;33m.\u001b[0m\u001b[0mreshape\u001b[0m\u001b[1;33m(\u001b[0m\u001b[1;36m100\u001b[0m\u001b[1;33m,\u001b[0m \u001b[1;36m260\u001b[0m\u001b[1;33m,\u001b[0m \u001b[1;36m3\u001b[0m\u001b[1;33m)\u001b[0m\u001b[1;33m\u001b[0m\u001b[0m\n\u001b[0;32m      7\u001b[0m     \u001b[0mmat\u001b[0m \u001b[1;33m=\u001b[0m  \u001b[0mmat\u001b[0m\u001b[1;33m[\u001b[0m\u001b[1;33m:\u001b[0m\u001b[1;33m,\u001b[0m\u001b[1;33m:\u001b[0m\u001b[1;33m,\u001b[0m\u001b[1;36m2\u001b[0m\u001b[1;33m]\u001b[0m\u001b[1;33m\u001b[0m\u001b[0m\n",
      "\u001b[1;32mC:\\Users\\amonimo\\Anaconda\\lib\\site-packages\\pyscreeze\\__init__.pyc\u001b[0m in \u001b[0;36m_screenshot_win32\u001b[1;34m(imageFilename, region)\u001b[0m\n\u001b[0;32m    304\u001b[0m \u001b[1;33m\u001b[0m\u001b[0m\n\u001b[0;32m    305\u001b[0m \u001b[1;32mdef\u001b[0m \u001b[0m_screenshot_win32\u001b[0m\u001b[1;33m(\u001b[0m\u001b[0mimageFilename\u001b[0m\u001b[1;33m=\u001b[0m\u001b[0mNone\u001b[0m\u001b[1;33m,\u001b[0m \u001b[0mregion\u001b[0m\u001b[1;33m=\u001b[0m\u001b[0mNone\u001b[0m\u001b[1;33m)\u001b[0m\u001b[1;33m:\u001b[0m\u001b[1;33m\u001b[0m\u001b[0m\n\u001b[1;32m--> 306\u001b[1;33m     \u001b[0mim\u001b[0m \u001b[1;33m=\u001b[0m \u001b[0mImageGrab\u001b[0m\u001b[1;33m.\u001b[0m\u001b[0mgrab\u001b[0m\u001b[1;33m(\u001b[0m\u001b[1;33m)\u001b[0m\u001b[1;33m\u001b[0m\u001b[0m\n\u001b[0m\u001b[0;32m    307\u001b[0m     \u001b[1;32mif\u001b[0m \u001b[0mregion\u001b[0m \u001b[1;32mis\u001b[0m \u001b[1;32mnot\u001b[0m \u001b[0mNone\u001b[0m\u001b[1;33m:\u001b[0m\u001b[1;33m\u001b[0m\u001b[0m\n\u001b[0;32m    308\u001b[0m         \u001b[1;32massert\u001b[0m \u001b[0mlen\u001b[0m\u001b[1;33m(\u001b[0m\u001b[0mregion\u001b[0m\u001b[1;33m)\u001b[0m \u001b[1;33m==\u001b[0m \u001b[1;36m4\u001b[0m\u001b[1;33m,\u001b[0m \u001b[1;34m'region argument must be a tuple of four ints'\u001b[0m\u001b[1;33m\u001b[0m\u001b[0m\n",
      "\u001b[1;32mC:\\Users\\amonimo\\Anaconda\\lib\\site-packages\\PIL\\ImageGrab.pyc\u001b[0m in \u001b[0;36mgrab\u001b[1;34m(bbox)\u001b[0m\n\u001b[0;32m     45\u001b[0m         \u001b[0mos\u001b[0m\u001b[1;33m.\u001b[0m\u001b[0munlink\u001b[0m\u001b[1;33m(\u001b[0m\u001b[0mfile\u001b[0m\u001b[1;33m)\u001b[0m\u001b[1;33m\u001b[0m\u001b[0m\n\u001b[0;32m     46\u001b[0m     \u001b[1;32melse\u001b[0m\u001b[1;33m:\u001b[0m\u001b[1;33m\u001b[0m\u001b[0m\n\u001b[1;32m---> 47\u001b[1;33m         \u001b[0msize\u001b[0m\u001b[1;33m,\u001b[0m \u001b[0mdata\u001b[0m \u001b[1;33m=\u001b[0m \u001b[0mgrabber\u001b[0m\u001b[1;33m(\u001b[0m\u001b[1;33m)\u001b[0m\u001b[1;33m\u001b[0m\u001b[0m\n\u001b[0m\u001b[0;32m     48\u001b[0m         im = Image.frombytes(\n\u001b[0;32m     49\u001b[0m             \u001b[1;34m\"RGB\"\u001b[0m\u001b[1;33m,\u001b[0m \u001b[0msize\u001b[0m\u001b[1;33m,\u001b[0m \u001b[0mdata\u001b[0m\u001b[1;33m,\u001b[0m\u001b[1;33m\u001b[0m\u001b[0m\n",
      "\u001b[1;31mIOError\u001b[0m: screen grab failed"
     ]
    }
   ],
   "source": [
    "%matplotlib inline\n",
    "\n",
    "\n",
    "lastState = None\n",
    "lastAct = 0\n",
    "\n",
    "games = 0\n",
    "sleepTime = 0.5\n",
    "\n",
    "while(True):\n",
    "    \n",
    "    sc = takeScreen()\n",
    "    rew = getReward()\n",
    "    state = getState(sc, lastAct)\n",
    "    \n",
    "    if lastState != None:\n",
    "        q.learn(lastState, lastAct, rew, state)\n",
    "        \n",
    "    if rew == -1:\n",
    "        games =  games+1\n",
    "        if games > 10:\n",
    "            q.epsilon = 0\n",
    "            sleepTime = 0.15\n",
    "        print \"lastState: \"+str(lastState)+\" lastAction: \"+str(lastAct)+\" newState: \"+str(state)\n",
    "        q.epsilon = q.epsilon-0.01\n",
    "        mousePos((350,600))\n",
    "        leftClick()\n",
    "        mousePos((250, 600))\n",
    "        time.sleep(2)\n",
    "        lastAct = 0\n",
    "        \n",
    "    else:\n",
    "        action = q.chooseAction(state)\n",
    "\n",
    "        if action == 0 and lastAct == 0:\n",
    "            leftClick()\n",
    "        elif action == 1 and lastAct == 1:\n",
    "            leftClick()\n",
    "        elif action == 0 and lastAct == 1:\n",
    "            cutLeft()\n",
    "        elif action == 1 and lastAct == 0:\n",
    "            cutRight()\n",
    "\n",
    "        lastState = state\n",
    "        lastAct = action\n",
    "        #plt.imshow(sc)\n",
    "        #plt.show()\n",
    "        time.sleep(sleepTime)\n"
   ]
  },
  {
   "cell_type": "code",
   "execution_count": 106,
   "metadata": {
    "collapsed": false
   },
   "outputs": [
    {
     "name": "stdout",
     "output_type": "stream",
     "text": [
      "{   ((127, 255, 1), 0): -0.276,\n",
      "    ((127, 255, 1), 1): 4.533239905321846,\n",
      "    ((255, 127, 1), 0): 3.720120348391027,\n",
      "    ((255, 255, 0), 0): 3.035833291283843,\n",
      "    ((255, 255, 0), 1): 3.5364164888960663,\n",
      "    ((255, 255, 1), 1): 4.353038348589128}\n"
     ]
    }
   ],
   "source": [
    "import pprint\n",
    "\n",
    "pp = pprint.PrettyPrinter(indent=4)\n",
    "pp.pprint(q.q)"
   ]
  },
  {
   "cell_type": "code",
   "execution_count": 1,
   "metadata": {
    "collapsed": true
   },
   "outputs": [],
   "source": [
    "import random\n",
    "\n",
    "\n",
    "class QLearn:\n",
    "    def __init__(self, actions, epsilon=0.1, alpha=0.2, gamma=0.9):\n",
    "        self.q = {}\n",
    "\n",
    "        self.epsilon = epsilon\n",
    "        self.alpha = alpha\n",
    "        self.gamma = gamma\n",
    "        self.actions = actions\n",
    "\n",
    "    def getQ(self, state, action):\n",
    "        return self.q.get((state, action), 0.0)\n",
    "        # return self.q.get((state, action), 1.0)\n",
    "\n",
    "    def learnQ(self, state, action, reward, value):\n",
    "        oldv = self.q.get((state, action), None)\n",
    "        if oldv is None:\n",
    "            self.q[(state, action)] = reward\n",
    "        else:\n",
    "            self.q[(state, action)] = oldv + self.alpha * (value - oldv)\n",
    "\n",
    "    def chooseAction(self, state):\n",
    "        if random.random() < self.epsilon:\n",
    "            action = random.choice(self.actions)\n",
    "        else:\n",
    "            q = [self.getQ(state, a) for a in self.actions]\n",
    "            maxQ = max(q)\n",
    "            count = q.count(maxQ)\n",
    "            if count > 1:\n",
    "                best = [i for i in range(len(self.actions)) if q[i] == maxQ]\n",
    "                i = random.choice(best)\n",
    "            else:\n",
    "                i = q.index(maxQ)\n",
    "\n",
    "            action = self.actions[i]\n",
    "        return action\n",
    "\n",
    "    def learn(self, state1, action1, reward, state2):\n",
    "        maxqnew = max([self.getQ(state2, a) for a in self.actions])\n",
    "        self.learnQ(state1, action1, reward, reward + self.gamma*maxqnew)\n",
    "\n",
    "import math\n",
    "def ff(f,n):\n",
    "    fs = \"{:f}\".format(f)\n",
    "    if len(fs) < n:\n",
    "        return (\"{:\"+n+\"s}\").format(fs)\n",
    "    else:\n",
    "        return fs[:n]"
   ]
  },
  {
   "cell_type": "code",
   "execution_count": null,
   "metadata": {
    "collapsed": true
   },
   "outputs": [],
   "source": []
  }
 ],
 "metadata": {
  "kernelspec": {
   "display_name": "Python 2",
   "language": "python",
   "name": "python2"
  },
  "language_info": {
   "codemirror_mode": {
    "name": "ipython",
    "version": 2
   },
   "file_extension": ".py",
   "mimetype": "text/x-python",
   "name": "python",
   "nbconvert_exporter": "python",
   "pygments_lexer": "ipython2",
   "version": "2.7.10"
  }
 },
 "nbformat": 4,
 "nbformat_minor": 0
}
